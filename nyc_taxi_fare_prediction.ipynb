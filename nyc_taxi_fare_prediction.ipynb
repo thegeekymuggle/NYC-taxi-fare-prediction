{
 "cells": [
  {
   "cell_type": "code",
   "execution_count": 1,
   "metadata": {
    "id": "LW0Hkya9PdcV"
   },
   "outputs": [],
   "source": [
    "import numpy as np\n",
    "import pandas as pd\n",
    "import matplotlib.pyplot as plt\n",
    "import xgboost as xgb\n",
    "from sklearn.model_selection import train_test_split\n",
    "from sklearn.metrics import mean_squared_error\n",
    "from sklearn.ensemble import RandomForestRegressor"
   ]
  },
  {
   "cell_type": "code",
   "execution_count": 41,
   "metadata": {
    "id": "4RD1jiReQSLa"
   },
   "outputs": [],
   "source": [
    "df = pd.read_csv('train.csv',nrows = 10_000_000)\n",
    "test_df = pd.read_csv('test.csv')"
   ]
  },
  {
   "cell_type": "code",
   "execution_count": 42,
   "metadata": {
    "colab": {
     "base_uri": "https://localhost:8080/"
    },
    "id": "VjZ7RCd2QViU",
    "outputId": "62c80161-e44d-4720-8991-6c375e5ec0b7"
   },
   "outputs": [
    {
     "data": {
      "text/plain": [
       "key                   0\n",
       "fare_amount           0\n",
       "pickup_datetime       0\n",
       "pickup_longitude      0\n",
       "pickup_latitude       0\n",
       "dropoff_longitude    69\n",
       "dropoff_latitude     69\n",
       "passenger_count       0\n",
       "dtype: int64"
      ]
     },
     "execution_count": 42,
     "metadata": {},
     "output_type": "execute_result"
    }
   ],
   "source": [
    "df.isnull().sum()"
   ]
  },
  {
   "cell_type": "code",
   "execution_count": 43,
   "metadata": {
    "colab": {
     "base_uri": "https://localhost:8080/"
    },
    "id": "4dwz57QHQYCH",
    "outputId": "314e97f3-7a9b-40df-bbe0-058deff67caf"
   },
   "outputs": [
    {
     "data": {
      "text/plain": [
       "key                  0\n",
       "pickup_datetime      0\n",
       "pickup_longitude     0\n",
       "pickup_latitude      0\n",
       "dropoff_longitude    0\n",
       "dropoff_latitude     0\n",
       "passenger_count      0\n",
       "dtype: int64"
      ]
     },
     "execution_count": 43,
     "metadata": {},
     "output_type": "execute_result"
    }
   ],
   "source": [
    "test_df.isnull().sum()"
   ]
  },
  {
   "cell_type": "markdown",
   "metadata": {},
   "source": [
    "### Dropped rows with null values"
   ]
  },
  {
   "cell_type": "code",
   "execution_count": 5,
   "metadata": {
    "id": "YwxapHSsQbNE"
   },
   "outputs": [],
   "source": [
    "df.dropna(subset=['dropoff_latitude', 'dropoff_longitude'], inplace = True)"
   ]
  },
  {
   "cell_type": "code",
   "execution_count": 6,
   "metadata": {
    "colab": {
     "base_uri": "https://localhost:8080/"
    },
    "id": "8jgnnTx2_qhG",
    "outputId": "c7a2dacb-7bcd-4d62-cf4f-a77a0797f1f6"
   },
   "outputs": [
    {
     "data": {
      "text/plain": [
       "(9999931, 8)"
      ]
     },
     "execution_count": 6,
     "metadata": {},
     "output_type": "execute_result"
    }
   ],
   "source": [
    "df.shape"
   ]
  },
  {
   "cell_type": "markdown",
   "metadata": {},
   "source": [
    "### Dropped latitude and longitude values which did not belong to the state of New York\n",
    "\n",
    "- Googled the range of values for latitude and longitude of New York\n",
    "- Latitude range: 41 to 45\n",
    "- Longitude range: -78 to -71"
   ]
  },
  {
   "cell_type": "code",
   "execution_count": 44,
   "metadata": {
    "id": "OxauCmc1Q3nb"
   },
   "outputs": [],
   "source": [
    "# df = df[df.pickup_longitude > -179]\n",
    "# df = df[df.dropoff_longitude > -179]\n",
    "# df = df[df.pickup_longitude < 181]\n",
    "# df = df[df.dropoff_longitude < 181]\n",
    "# df = df[df.pickup_latitude > -89]\n",
    "# df = df[df.dropoff_latitude > -89]\n",
    "# df = df[df.pickup_latitude < 91]\n",
    "# df = df[df.dropoff_latitude < 91]\n",
    "\n",
    "df = df[df.pickup_longitude > -79]\n",
    "df = df[df.dropoff_longitude > -79]\n",
    "df = df[df.pickup_longitude < -72]\n",
    "df = df[df.dropoff_longitude < -72]\n",
    "df = df[df.pickup_latitude > 40]\n",
    "df = df[df.dropoff_latitude > 40]\n",
    "df = df[df.pickup_latitude < 46]\n",
    "df = df[df.dropoff_latitude < 46]"
   ]
  },
  {
   "cell_type": "code",
   "execution_count": 45,
   "metadata": {
    "colab": {
     "base_uri": "https://localhost:8080/"
    },
    "id": "uWWo2X5c_uLX",
    "outputId": "ee06409b-db1d-41a8-da8f-dbdaa9f275aa"
   },
   "outputs": [
    {
     "data": {
      "text/plain": [
       "(9790043, 8)"
      ]
     },
     "execution_count": 45,
     "metadata": {},
     "output_type": "execute_result"
    }
   ],
   "source": [
    "df.shape"
   ]
  },
  {
   "cell_type": "markdown",
   "metadata": {},
   "source": [
    "### Deleted rows with passenger count greater than 6"
   ]
  },
  {
   "cell_type": "code",
   "execution_count": 46,
   "metadata": {
    "id": "kYxmDYavQ5SE"
   },
   "outputs": [],
   "source": [
    "#df = df[2.5 < df.fare_amount]\n",
    "#df = df[500 > df.fare_amount]\n",
    "df = df[7 > df.passenger_count]\n",
    "df = df[df.passenger_count > 0]"
   ]
  },
  {
   "cell_type": "code",
   "execution_count": 47,
   "metadata": {
    "colab": {
     "base_uri": "https://localhost:8080/"
    },
    "id": "1yMllX8WA3Zs",
    "outputId": "849b4849-e2b4-45db-b98e-91ce1df1d19d"
   },
   "outputs": [
    {
     "data": {
      "text/plain": [
       "(9755513, 8)"
      ]
     },
     "execution_count": 47,
     "metadata": {},
     "output_type": "execute_result"
    }
   ],
   "source": [
    "df.shape"
   ]
  },
  {
   "cell_type": "markdown",
   "metadata": {},
   "source": [
    "### Decomposed the date and time column to year, month, date, day and hour"
   ]
  },
  {
   "cell_type": "code",
   "execution_count": 48,
   "metadata": {
    "id": "_DqGXTojQ86a"
   },
   "outputs": [],
   "source": [
    "df['key'] = pd.to_datetime(df['key'])\n",
    "key = test_df.key\n",
    "test_df['key'] = pd.to_datetime(df['key'])\n",
    "df['pickup_datetime'] = pd.to_datetime(df['pickup_datetime'])\n",
    "test_df['pickup_datetime'] = pd.to_datetime(test_df['pickup_datetime'])"
   ]
  },
  {
   "cell_type": "code",
   "execution_count": 49,
   "metadata": {
    "id": "ca6bHpyoQ-4J"
   },
   "outputs": [],
   "source": [
    "df['year'] = df['pickup_datetime'].dt.year\n",
    "df['month'] = df['pickup_datetime'].dt.month\n",
    "df['date'] = df['pickup_datetime'].dt.day\n",
    "df['day'] = df['pickup_datetime'].dt.dayofweek\n",
    "df['hour'] = df['pickup_datetime'].dt.hour\n",
    "df = df.drop('pickup_datetime', axis=1)\n",
    "df = df.drop('key',axis=1)"
   ]
  },
  {
   "cell_type": "code",
   "execution_count": 50,
   "metadata": {
    "id": "kt5Yc8eASMIm"
   },
   "outputs": [],
   "source": [
    "test_df['year'] = test_df['pickup_datetime'].dt.year\n",
    "test_df['month'] = test_df['pickup_datetime'].dt.month\n",
    "test_df['date'] = test_df['pickup_datetime'].dt.day\n",
    "test_df['day'] = test_df['pickup_datetime'].dt.dayofweek\n",
    "test_df['hour'] = test_df['pickup_datetime'].dt.hour\n",
    "test_df = test_df.drop('pickup_datetime', axis=1)\n",
    "test_df = test_df.drop('key',axis=1)"
   ]
  },
  {
   "cell_type": "code",
   "execution_count": 51,
   "metadata": {
    "colab": {
     "base_uri": "https://localhost:8080/"
    },
    "id": "VHSqasiVSPWx",
    "outputId": "448588a1-c870-4ede-fd87-dd6c8348c4dc"
   },
   "outputs": [
    {
     "data": {
      "text/plain": [
       "(9755513, 11)"
      ]
     },
     "execution_count": 51,
     "metadata": {},
     "output_type": "execute_result"
    }
   ],
   "source": [
    "df.shape"
   ]
  },
  {
   "cell_type": "markdown",
   "metadata": {},
   "source": [
    "### Added a new column distance which was calculated using the Haversine formula"
   ]
  },
  {
   "cell_type": "code",
   "execution_count": 52,
   "metadata": {
    "id": "-j4AEV7gXvFq"
   },
   "outputs": [],
   "source": [
    "diff_long = df['dropoff_longitude'] - df['pickup_longitude']\n",
    "diff_lat = df['dropoff_latitude'] - df['pickup_latitude']\n",
    "var = np.sin(diff_lat/2)**2 + np.cos(df['pickup_latitude']) * np.cos(df['dropoff_latitude']) * np.sin(diff_long/2)**2\n",
    "c = 2 * np.arcsin(np.sqrt(var))\n",
    "r = 6371\n",
    "df['distance'] = c*r"
   ]
  },
  {
   "cell_type": "code",
   "execution_count": 53,
   "metadata": {
    "id": "py0XNKYTjapO"
   },
   "outputs": [],
   "source": [
    "diff_long2 = test_df['dropoff_longitude'] - test_df['pickup_longitude']\n",
    "diff_lat2 = test_df['dropoff_latitude'] - test_df['pickup_latitude']\n",
    "var2 = np.sin(diff_lat2/2)**2 + np.cos(test_df['pickup_latitude']) * np.cos(test_df['dropoff_latitude']) * np.sin(diff_long2/2)**2\n",
    "c2 = 2 * np.arcsin(np.sqrt(var2))\n",
    "r = 6371\n",
    "test_df['distance'] = c2*r"
   ]
  },
  {
   "cell_type": "code",
   "execution_count": 31,
   "metadata": {
    "colab": {
     "base_uri": "https://localhost:8080/"
    },
    "id": "yBBxxoTqbjq2",
    "outputId": "aa9f3890-a7d0-4e5b-99b4-06f525130b1a"
   },
   "outputs": [
    {
     "data": {
      "text/plain": [
       "(9964095, 12)"
      ]
     },
     "execution_count": 31,
     "metadata": {},
     "output_type": "execute_result"
    }
   ],
   "source": [
    "df.shape"
   ]
  },
  {
   "cell_type": "code",
   "execution_count": 1,
   "metadata": {},
   "outputs": [],
   "source": [
    "from IPython import display"
   ]
  },
  {
   "cell_type": "markdown",
   "metadata": {},
   "source": [
    "### Split the dataset into train and validation set"
   ]
  },
  {
   "cell_type": "code",
   "execution_count": 54,
   "metadata": {
    "id": "a_VMS21Le45E"
   },
   "outputs": [],
   "source": [
    "y = df['fare_amount']\n",
    "X = df.drop('fare_amount',axis=1)\n",
    "X_train,X_val,y_train,y_val = train_test_split(X,y,test_size=0.2,random_state=42)"
   ]
  },
  {
   "cell_type": "markdown",
   "metadata": {},
   "source": [
    "### Applied the Random Forest Regressor on the train dataset"
   ]
  },
  {
   "cell_type": "code",
   "execution_count": 55,
   "metadata": {
    "id": "Bt1BPi7qH9KT"
   },
   "outputs": [
    {
     "data": {
      "text/plain": [
       "0.8358180536819508"
      ]
     },
     "execution_count": 55,
     "metadata": {},
     "output_type": "execute_result"
    }
   ],
   "source": [
    "model_rf = RandomForestRegressor(max_depth = 10,n_estimators=10)\n",
    "model_rf.fit(X_train,y_train)\n",
    "score = model_rf.score(X_val,y_val)\n",
    "score "
   ]
  },
  {
   "cell_type": "markdown",
   "metadata": {},
   "source": [
    "### RMSE score of Random Forest Regressor on the validation set"
   ]
  },
  {
   "cell_type": "code",
   "execution_count": 56,
   "metadata": {},
   "outputs": [
    {
     "data": {
      "text/plain": [
       "3.9232874950820014"
      ]
     },
     "execution_count": 56,
     "metadata": {},
     "output_type": "execute_result"
    }
   ],
   "source": [
    "val_preds = model_rf.predict(X_val)\n",
    "rmse = np.sqrt(mean_squared_error(y_val,val_preds))\n",
    "rmse"
   ]
  },
  {
   "cell_type": "code",
   "execution_count": 57,
   "metadata": {},
   "outputs": [
    {
     "data": {
      "text/plain": [
       "array([10.04355088, 10.83504672,  5.02911027, ..., 55.55798503,\n",
       "       21.64489791,  7.63593048])"
      ]
     },
     "execution_count": 57,
     "metadata": {},
     "output_type": "execute_result"
    }
   ],
   "source": [
    "preds = model_rf.predict(test_df)\n",
    "preds"
   ]
  },
  {
   "cell_type": "code",
   "execution_count": 58,
   "metadata": {},
   "outputs": [],
   "source": [
    "submission = pd.DataFrame(\n",
    "    {'key': key, 'fare_amount': preds},\n",
    "    columns = ['key', 'fare_amount'])\n",
    "submission.to_csv('submission.csv', index = False)"
   ]
  },
  {
   "cell_type": "markdown",
   "metadata": {},
   "source": [
    "### RMSE score on kaggle for Random Forest Regressor"
   ]
  },
  {
   "cell_type": "code",
   "execution_count": 2,
   "metadata": {
    "scrolled": true
   },
   "outputs": [
    {
     "data": {
      "image/png": "[encoded data removed]",
      "text/plain": [
       "<IPython.core.display.Image object>"
      ]
     },
     "execution_count": 2,
     "metadata": {},
     "output_type": "execute_result"
    }
   ],
   "source": [
    "display.Image('RFR.png')"
   ]
  },
  {
   "cell_type": "markdown",
   "metadata": {},
   "source": [
    "### Using the XGBoost regressor on the train dataset"
   ]
  },
  {
   "cell_type": "code",
   "execution_count": 59,
   "metadata": {
    "colab": {
     "base_uri": "https://localhost:8080/"
    },
    "id": "hBVMIGRHfl0f",
    "outputId": "3e402102-1fa8-4d5a-b5b0-583f565abfc1"
   },
   "outputs": [
    {
     "name": "stdout",
     "output_type": "stream",
     "text": [
      "[15:00:13] WARNING: C:/Users/Administrator/workspace/xgboost-win64_release_1.5.0/src/objective/regression_obj.cu:188: reg:linear is now deprecated in favor of reg:squarederror.\n",
      "[15:00:14] WARNING: C:/Users/Administrator/workspace/xgboost-win64_release_1.5.0/src/learner.cc:576: \n",
      "Parameters: { \"silent\" } might not be used.\n",
      "\n",
      "  This could be a false alarm, with some parameters getting used by language bindings but\n",
      "  then being mistakenly passed down to XGBoost core, or some parameter actually being used\n",
      "  but getting flagged wrongly here. Please open an issue if you find any such cases.\n",
      "\n",
      "\n"
     ]
    }
   ],
   "source": [
    "dtrain = xgb.DMatrix(X_train, label=y_train)\n",
    "dvalid = xgb.DMatrix(X_val, label=y_val)\n",
    "dtest = xgb.DMatrix(test_df)\n",
    "\n",
    "xgb_params = {\n",
    "    'eta': 1,\n",
    "    'objective':'reg:linear',\n",
    "    'learning_rate': 0.05,  \n",
    "    'max_depth': 7,\n",
    "    'silent': 1,\n",
    "    'eval_metric': 'rmse'}\n",
    "\n",
    "model = xgb.train(xgb_params, dtrain, 50)"
   ]
  },
  {
   "cell_type": "code",
   "execution_count": 61,
   "metadata": {
    "id": "7l6FK-5lfxFr"
   },
   "outputs": [],
   "source": [
    "dtest = xgb.DMatrix(test_df)\n",
    "test_preds = model.predict(dtest)"
   ]
  },
  {
   "cell_type": "markdown",
   "metadata": {},
   "source": [
    "### RMSE score of XGBoost regressor on the validation set"
   ]
  },
  {
   "cell_type": "code",
   "execution_count": 60,
   "metadata": {},
   "outputs": [
    {
     "data": {
      "text/plain": [
       "4.283797847881697"
      ]
     },
     "execution_count": 60,
     "metadata": {},
     "output_type": "execute_result"
    }
   ],
   "source": [
    "val = xgb.DMatrix(X_val)\n",
    "preds2 = model.predict(val)\n",
    "rmse = np.sqrt(mean_squared_error(y_val,preds2))\n",
    "rmse"
   ]
  },
  {
   "cell_type": "code",
   "execution_count": 39,
   "metadata": {},
   "outputs": [
    {
     "data": {
      "text/plain": [
       "1992819"
      ]
     },
     "execution_count": 39,
     "metadata": {},
     "output_type": "execute_result"
    }
   ],
   "source": [
    "len(preds2)"
   ]
  },
  {
   "cell_type": "code",
   "execution_count": 62,
   "metadata": {
    "id": "rPO4qXxdklQe"
   },
   "outputs": [],
   "source": [
    "submission = pd.DataFrame(\n",
    "    {'key': key, 'fare_amount': test_preds},\n",
    "    columns = ['key', 'fare_amount'])\n",
    "submission.to_csv('submission2.csv', index = False)"
   ]
  },
  {
   "cell_type": "markdown",
   "metadata": {
    "id": "rN9TX7gsyCAI"
   },
   "source": [
    "### RMSE score on kaggle for XGBoost Regressor"
   ]
  },
  {
   "cell_type": "code",
   "execution_count": 3,
   "metadata": {},
   "outputs": [
    {
     "data": {
      "image/png": "[encoded data removed]",
      "text/plain": [
       "<IPython.core.display.Image object>"
      ]
     },
     "execution_count": 3,
     "metadata": {},
     "output_type": "execute_result"
    }
   ],
   "source": [
    "display.Image('XGB.png')"
   ]
  },
  {
   "cell_type": "code",
   "execution_count": null,
   "metadata": {},
   "outputs": [],
   "source": []
  }
 ],
 "metadata": {
  "colab": {
   "name": "Untitled4.ipynb",
   "provenance": []
  },
  "kernelspec": {
   "display_name": "Python 3 (ipykernel)",
   "language": "python",
   "name": "python3"
  },
  "language_info": {
   "codemirror_mode": {
    "name": "ipython",
    "version": 3
   },
   "file_extension": ".py",
   "mimetype": "text/x-python",
   "name": "python",
   "nbconvert_exporter": "python",
   "pygments_lexer": "ipython3",
   "version": "3.9.6"
  }
 },
 "nbformat": 4,
 "nbformat_minor": 1
}
